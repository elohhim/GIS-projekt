{
 "cells": [
  {
   "cell_type": "markdown",
   "metadata": {},
   "source": [
    "# Resiliences - Package design"
   ]
  },
  {
   "cell_type": "markdown",
   "metadata": {},
   "source": [
    "## Definitions\n",
    "\n",
    "1. Graph *density* is understood as the ratio of the number of links present in the graph to the number of all possible links: $D = \\frac{2m}{n(n-1)}$, where:\n",
    "     - $m$ is the number of links (edges), and\n",
    "     - $n$ is the number of nodes (vertices).\n",
    "2. Random edge - an edge randomly chosen from those present in the graph$^1$. \n",
    "3. Random graph - a random geometric graph; the mathematically simplest spatial network. An undirected graph constructed by randomly placing $N$ nodes in some metric space, according to the specified probability distribution, and connecting two nodes if and only if their distance is in a given range, eg. smaller than a certain neighborhood radius $r$.\n",
    "\n",
    "$^1$ As opposed to an edge built from two randomly chosen vertices, without considering if the edge is present in the graph or already absent."
   ]
  },
  {
   "cell_type": "markdown",
   "metadata": {},
   "source": [
    "### Supporting functions"
   ]
  },
  {
   "cell_type": "code",
   "execution_count": null,
   "metadata": {},
   "outputs": [],
   "source": [
    "import igraph, random, distutils"
   ]
  },
  {
   "cell_type": "code",
   "execution_count": null,
   "metadata": {},
   "outputs": [],
   "source": [
    "def graph(vertex_count):\n",
    "    \n",
    "    g = igraph.Graph()\n",
    "    \n",
    "    g.add_vertices(vertex_count)\n",
    "    \n",
    "    return g\n",
    "\n",
    "g = graph(10)\n",
    "\n",
    "g.name = \"simple\"\n",
    "\n",
    "print(g)\n",
    "\n",
    "print g.name"
   ]
  },
  {
   "cell_type": "code",
   "execution_count": null,
   "metadata": {},
   "outputs": [],
   "source": [
    "def random_vertex_number(g):\n",
    "    \n",
    "    vertices = g.vcount()\n",
    "    \n",
    "    return random.randrange(vertices)\n",
    "\n",
    "print(random_vertex_number(g))"
   ]
  },
  {
   "cell_type": "code",
   "execution_count": null,
   "metadata": {},
   "outputs": [],
   "source": [
    "def random_vertex_pair(g):\n",
    "    \n",
    "    pair = []\n",
    "    \n",
    "    vertex = random_vertex_number(g)\n",
    "    \n",
    "    pair.append(vertex)\n",
    "    \n",
    "    another_vertex = random_vertex_number(g)\n",
    "    \n",
    "    while another_vertex == pair[0]:\n",
    "        another_vertex = random_vertex_number(g)\n",
    "\n",
    "    pair.append(another_vertex)\n",
    "\n",
    "    return pair\n",
    "\n",
    "\n",
    "for i in range(1):\n",
    "    \n",
    "    pair = random_vertex_pair(g)\n",
    "\n",
    "    print(pair)"
   ]
  },
  {
   "cell_type": "code",
   "execution_count": null,
   "metadata": {
    "scrolled": true
   },
   "outputs": [],
   "source": [
    "def add_random_edges(g, edge_count):\n",
    "    \n",
    "    edges = []\n",
    "    \n",
    "    for i in range(0, edge_count):\n",
    "        \n",
    "        vertex_pair = random_vertex_pair(g)\n",
    "        \n",
    "        if not g.are_connected(vertex_pair[0], vertex_pair[1]):\n",
    "\n",
    "            edges.append(vertex_pair)\n",
    "\n",
    "            g.add_edges(edges)\n",
    "            \n",
    "            edges.remove(vertex_pair)\n",
    "    \n",
    "    return g\n",
    "\n",
    "g = add_random_edges(g, 5)\n",
    "\n",
    "print g.name\n",
    "print(g)"
   ]
  },
  {
   "cell_type": "code",
   "execution_count": null,
   "metadata": {
    "scrolled": true
   },
   "outputs": [],
   "source": [
    "def density(g):\n",
    "    \n",
    "    return g.density(loops = False)\n",
    "\n",
    "print(density(g))"
   ]
  },
  {
   "cell_type": "markdown",
   "metadata": {},
   "source": [
    "### Preview the generated graph"
   ]
  },
  {
   "cell_type": "code",
   "execution_count": null,
   "metadata": {
    "scrolled": true
   },
   "outputs": [],
   "source": [
    "from IPython.display import SVG, display\n",
    "import os\n",
    "    \n",
    "def generate_graph_preview(g):\n",
    "    \n",
    "    directory = \"graphs/\"\n",
    "    \n",
    "    file_name = directory + g.name\n",
    "    \n",
    "    dot_ext = \".dot\"\n",
    "    svg_ext = \".svg\"\n",
    "    \n",
    "    g.write(file_name + dot_ext)\n",
    "    \n",
    "    cmd = \"dot \" + file_name + dot_ext + \" -Tsvg > \" + directory + g.name + svg_ext \n",
    "    \n",
    "    os.system(cmd)\n",
    "\n",
    "def preview_graph(g):\n",
    "    \n",
    "    directory = \"graphs/\"\n",
    "    \n",
    "    file_name = directory + g.name + \".svg\"\n",
    "    \n",
    "    display(SVG(file_name))\n",
    "    \n",
    "    #os.system(\"rm \" + file_name)\n",
    "\n",
    "def show(g):\n",
    "    \n",
    "    generate_graph_preview(g)\n",
    "    \n",
    "    preview_graph(g)\n",
    "\n",
    "show(g)"
   ]
  },
  {
   "cell_type": "code",
   "execution_count": null,
   "metadata": {},
   "outputs": [],
   "source": [
    "def dominant_component(g):\n",
    "    \n",
    "    name_safe = g.name\n",
    "    \n",
    "    connected_components = g.clusters()\n",
    "    \n",
    "    dominant_component = connected_components.giant()\n",
    "    \n",
    "    dominant_component.name = name_safe\n",
    "    \n",
    "    return dominant_component\n",
    "\n",
    "def connected(g):\n",
    "    \n",
    "    return g.is_connected()\n",
    "\n",
    "g = dominant_component(g)\n",
    "\n",
    "print(\"Is g connected?\", connected(g))\n",
    "\n",
    "show(g)"
   ]
  },
  {
   "cell_type": "code",
   "execution_count": null,
   "metadata": {},
   "outputs": [],
   "source": [
    "def random_edge(g):\n",
    "    \n",
    "    edge = random.choice(g.es())\n",
    "    \n",
    "    #vertex_tuple = edge.tuple\n",
    "\n",
    "    return edge\n",
    "\n",
    "print random_edge(g).tuple"
   ]
  },
  {
   "cell_type": "code",
   "execution_count": null,
   "metadata": {
    "scrolled": true
   },
   "outputs": [],
   "source": [
    "def breaks_upon_attack(g):\n",
    "    \n",
    "    edge = random_edge(g)\n",
    "    \n",
    "    safe_name = g.name\n",
    "    \n",
    "    g = g - edge\n",
    "    \n",
    "    g.name = safe_name\n",
    "    \n",
    "    broken = not connected(g)\n",
    "    \n",
    "    return [broken, g, edge]\n",
    "\n",
    "[broken, g, edge] = breaks_upon_attack(g)\n",
    "\n",
    "print broken\n",
    "\n",
    "print g\n",
    "\n",
    "print g.name\n",
    "\n",
    "print \"Affected edge:\", edge.tuple"
   ]
  },
  {
   "cell_type": "markdown",
   "metadata": {},
   "source": [
    "#### Preview the graph after attack"
   ]
  },
  {
   "cell_type": "code",
   "execution_count": null,
   "metadata": {
    "scrolled": false
   },
   "outputs": [],
   "source": [
    "generate_graph_preview(g)\n",
    "\n",
    "preview_graph(g)"
   ]
  },
  {
   "cell_type": "markdown",
   "metadata": {},
   "source": [
    "---"
   ]
  },
  {
   "cell_type": "markdown",
   "metadata": {},
   "source": [
    "#### Generate test graphs"
   ]
  },
  {
   "cell_type": "code",
   "execution_count": null,
   "metadata": {
    "scrolled": false
   },
   "outputs": [],
   "source": [
    "# Generate a random geometric (Euclidean) graph with\n",
    "# n vertices and approximately m edges.\n",
    "def euclidean_net(n, m):\n",
    "    \n",
    "    g = igraph.Graph()\n",
    "    \n",
    "    radius = 0.2\n",
    "    \n",
    "    #graph_density = 0\n",
    "    \n",
    "    while g.ecount() < m:\n",
    "        \n",
    "        g = igraph.Graph().GRG(n, radius)\n",
    "        \n",
    "        g.name = \"Euclidean\"\n",
    "\n",
    "        g = dominant_component(g)\n",
    "\n",
    "#         graph_density = density(g)\n",
    "        \n",
    "        radius = radius + 0.1\n",
    "\n",
    "    return g\n",
    "\n",
    "def inspect(g):\n",
    "    \n",
    "    print \"=== Graph type:\", g.name, \"===\"\n",
    "\n",
    "    print \"Density:\", round(density(g), 3)\n",
    "\n",
    "    print \"Vertices:\", g.vcount()\n",
    "    \n",
    "    print \"Edges:\", g.ecount()\n",
    "\n",
    "g = euclidean_net(80, 20)\n",
    "\n",
    "inspect(g)"
   ]
  },
  {
   "cell_type": "code",
   "execution_count": null,
   "metadata": {
    "scrolled": true
   },
   "outputs": [],
   "source": [
    "# Generate a random graph with\n",
    "# n vertices and m edges.\n",
    "\n",
    "# WARNING/TODO: Freezes \"randomly\" from time to time\n",
    "def random_net(n, m):\n",
    "    \n",
    "    g = graph(vertex_count = n)\n",
    "    \n",
    "    g = add_random_edges(g, edge_count = m)\n",
    "    \n",
    "    g.name = \"random\"\n",
    "    \n",
    "    g = dominant_component(g)\n",
    "    \n",
    "    while g.vcount() < n or g.ecount() < m:\n",
    "        \n",
    "        g.add_vertices(n - g.vcount())\n",
    "\n",
    "        g = add_random_edges(g, edge_count = m - g.ecount())\n",
    "        \n",
    "        g = dominant_component(g)\n",
    "    \n",
    "    return g\n",
    "\n",
    "# import cProfile\n",
    "# cProfile.run('g = random_net(19, 3)')\n",
    "\n",
    "g = random_net(7, 7)\n",
    "\n",
    "inspect(g)\n",
    "\n",
    "show(g)"
   ]
  },
  {
   "cell_type": "code",
   "execution_count": null,
   "metadata": {},
   "outputs": [],
   "source": [
    "# How many random attacks did it\n",
    "# take to break the net?\n",
    "def random_connectivity_degree(g):\n",
    "    \n",
    "    degree = 0\n",
    "    \n",
    "    while g.ecount() > 0 and connected(g):\n",
    "\n",
    "        edge = random_edge(g)\n",
    "    \n",
    "        safe_name = g.name\n",
    "\n",
    "        g = g - edge\n",
    "\n",
    "        g.name = safe_name\n",
    "        \n",
    "        degree += 1\n",
    "\n",
    "#     return [broken, g, edge]\n",
    "\n",
    "        return degree\n",
    "\n",
    "print random_connectivity_degree(g)"
   ]
  },
  {
   "cell_type": "code",
   "execution_count": null,
   "metadata": {},
   "outputs": [],
   "source": [
    "# Run a campaign of net creation and attacking\n",
    "# until discontinuity.\n",
    "\n",
    "def compare_resiliences(n, m):\n",
    "\n",
    "    g = random_net(n, m)\n",
    "\n",
    "    #inspect(g)\n",
    "\n",
    "    rcd = random_connectivity_degree(g)\n",
    "\n",
    "    print \"Resilience factor:\", rcd\n",
    "    \n",
    "    show(g)\n",
    "\n",
    "#     g_prime = euclidean_net(n, m)\n",
    "\n",
    "#     inspect(g_prime)\n",
    "\n",
    "#     print \"Resilience factor:\", random_connectivity_degree(g_prime)\n",
    "\n",
    "\n",
    "# import cProfile\n",
    "\n",
    "# report = cProfile.run('compare_resiliences(6, 5)')\n",
    "\n",
    "compare_resiliences(6, 5)"
   ]
  },
  {
   "cell_type": "code",
   "execution_count": 25,
   "metadata": {},
   "outputs": [
    {
     "name": "stdout",
     "output_type": "stream",
     "text": [
      "<class 'igraph.Graph'>\n",
      "<class 'igraph.clustering.VertexClustering'>\n",
      "Clustering with 30 elements and 4 clusters\n",
      "[0] 0, 1, 3, 5, 6, 7, 8, 9, 10, 11, 12, 13, 14, 15, 16, 17, 18, 19, 20, 21,\n",
      "    22, 23, 24, 25, 26, 27, 29\n",
      "[1] 2\n",
      "[2] 4\n",
      "[3] 28\n"
     ]
    },
    {
     "data": {
      "image/svg+xml": [
       "<svg height=\"188pt\" viewBox=\"0.00 0.00 494.00 188.00\" width=\"494pt\" xmlns=\"http://www.w3.org/2000/svg\" xmlns:xlink=\"http://www.w3.org/1999/xlink\">\n",
       "<g class=\"graph\" id=\"graph0\" transform=\"scale(1 1) rotate(0) translate(4 184)\">\n",
       "<title>%3</title>\n",
       "<polygon fill=\"#ffffff\" points=\"-4,4 -4,-184 490,-184 490,4 -4,4\" stroke=\"transparent\"/>\n",
       "<!-- 0 -->\n",
       "<g class=\"node\" id=\"node1\">\n",
       "<title>0</title>\n",
       "<ellipse cx=\"99\" cy=\"-18\" fill=\"none\" rx=\"27\" ry=\"18\" stroke=\"#000000\"/>\n",
       "<text fill=\"#000000\" font-family=\"Times,serif\" font-size=\"14.00\" text-anchor=\"middle\" x=\"99\" y=\"-14.3\">0</text>\n",
       "</g>\n",
       "<!-- 1 -->\n",
       "<g class=\"node\" id=\"node2\">\n",
       "<title>1</title>\n",
       "<ellipse cx=\"243\" cy=\"-90\" fill=\"none\" rx=\"27\" ry=\"18\" stroke=\"#000000\"/>\n",
       "<text fill=\"#000000\" font-family=\"Times,serif\" font-size=\"14.00\" text-anchor=\"middle\" x=\"243\" y=\"-86.3\">1</text>\n",
       "</g>\n",
       "<!-- 2 -->\n",
       "<g class=\"node\" id=\"node3\">\n",
       "<title>2</title>\n",
       "<ellipse cx=\"315\" cy=\"-162\" fill=\"none\" rx=\"27\" ry=\"18\" stroke=\"#000000\"/>\n",
       "<text fill=\"#000000\" font-family=\"Times,serif\" font-size=\"14.00\" text-anchor=\"middle\" x=\"315\" y=\"-158.3\">2</text>\n",
       "</g>\n",
       "<!-- 3 -->\n",
       "<g class=\"node\" id=\"node4\">\n",
       "<title>3</title>\n",
       "<ellipse cx=\"27\" cy=\"-90\" fill=\"none\" rx=\"27\" ry=\"18\" stroke=\"#000000\"/>\n",
       "<text fill=\"#000000\" font-family=\"Times,serif\" font-size=\"14.00\" text-anchor=\"middle\" x=\"27\" y=\"-86.3\">3</text>\n",
       "</g>\n",
       "<!-- 3&#45;&#45;0 -->\n",
       "<g class=\"edge\" id=\"edge2\">\n",
       "<title>3--0</title>\n",
       "<path d=\"M42.2693,-74.7307C54.488,-62.512 71.5398,-45.4602 83.7527,-33.2473\" fill=\"none\" stroke=\"#000000\"/>\n",
       "</g>\n",
       "<!-- 4 -->\n",
       "<g class=\"node\" id=\"node5\">\n",
       "<title>4</title>\n",
       "<ellipse cx=\"171\" cy=\"-90\" fill=\"none\" rx=\"27\" ry=\"18\" stroke=\"#000000\"/>\n",
       "<text fill=\"#000000\" font-family=\"Times,serif\" font-size=\"14.00\" text-anchor=\"middle\" x=\"171\" y=\"-86.3\">4</text>\n",
       "</g>\n",
       "<!-- 4&#45;&#45;0 -->\n",
       "<g class=\"edge\" id=\"edge5\">\n",
       "<title>4--0</title>\n",
       "<path d=\"M155.7307,-74.7307C143.512,-62.512 126.4602,-45.4602 114.2473,-33.2473\" fill=\"none\" stroke=\"#000000\"/>\n",
       "</g>\n",
       "<!-- 5 -->\n",
       "<g class=\"node\" id=\"node6\">\n",
       "<title>5</title>\n",
       "<ellipse cx=\"387\" cy=\"-162\" fill=\"none\" rx=\"27\" ry=\"18\" stroke=\"#000000\"/>\n",
       "<text fill=\"#000000\" font-family=\"Times,serif\" font-size=\"14.00\" text-anchor=\"middle\" x=\"387\" y=\"-158.3\">5</text>\n",
       "</g>\n",
       "<!-- 6 -->\n",
       "<g class=\"node\" id=\"node7\">\n",
       "<title>6</title>\n",
       "<ellipse cx=\"459\" cy=\"-162\" fill=\"none\" rx=\"27\" ry=\"18\" stroke=\"#000000\"/>\n",
       "<text fill=\"#000000\" font-family=\"Times,serif\" font-size=\"14.00\" text-anchor=\"middle\" x=\"459\" y=\"-158.3\">6</text>\n",
       "</g>\n",
       "<!-- 7 -->\n",
       "<g class=\"node\" id=\"node8\">\n",
       "<title>7</title>\n",
       "<ellipse cx=\"99\" cy=\"-90\" fill=\"none\" rx=\"27\" ry=\"18\" stroke=\"#000000\"/>\n",
       "<text fill=\"#000000\" font-family=\"Times,serif\" font-size=\"14.00\" text-anchor=\"middle\" x=\"99\" y=\"-86.3\">7</text>\n",
       "</g>\n",
       "<!-- 8 -->\n",
       "<g class=\"node\" id=\"node9\">\n",
       "<title>8</title>\n",
       "<ellipse cx=\"63\" cy=\"-162\" fill=\"none\" rx=\"27\" ry=\"18\" stroke=\"#000000\"/>\n",
       "<text fill=\"#000000\" font-family=\"Times,serif\" font-size=\"14.00\" text-anchor=\"middle\" x=\"63\" y=\"-158.3\">8</text>\n",
       "</g>\n",
       "<!-- 8&#45;&#45;3 -->\n",
       "<g class=\"edge\" id=\"edge3\">\n",
       "<title>8--3</title>\n",
       "<path d=\"M54.2854,-144.5708C48.6253,-133.2506 41.2784,-118.5568 35.6343,-107.2687\" fill=\"none\" stroke=\"#000000\"/>\n",
       "</g>\n",
       "<!-- 8&#45;&#45;7 -->\n",
       "<g class=\"edge\" id=\"edge4\">\n",
       "<title>8--7</title>\n",
       "<path d=\"M71.7146,-144.5708C77.3747,-133.2506 84.7216,-118.5568 90.3657,-107.2687\" fill=\"none\" stroke=\"#000000\"/>\n",
       "</g>\n",
       "<!-- 9 -->\n",
       "<g class=\"node\" id=\"node10\">\n",
       "<title>9</title>\n",
       "<ellipse cx=\"243\" cy=\"-162\" fill=\"none\" rx=\"27\" ry=\"18\" stroke=\"#000000\"/>\n",
       "<text fill=\"#000000\" font-family=\"Times,serif\" font-size=\"14.00\" text-anchor=\"middle\" x=\"243\" y=\"-158.3\">9</text>\n",
       "</g>\n",
       "<!-- 9&#45;&#45;1 -->\n",
       "<g class=\"edge\" id=\"edge1\">\n",
       "<title>9--1</title>\n",
       "<path d=\"M243,-143.8314C243,-133 243,-119.2876 243,-108.4133\" fill=\"none\" stroke=\"#000000\"/>\n",
       "</g>\n",
       "</g>\n",
       "</svg>"
      ],
      "text/plain": [
       "<IPython.core.display.SVG object>"
      ]
     },
     "metadata": {},
     "output_type": "display_data"
    }
   ],
   "source": [
    "import igraph\n",
    "import resiliences\n",
    "\n",
    "reload(resiliences)\n",
    "\n",
    "def new_compare_resiliences(n, m):\n",
    "    \n",
    "    e = resiliences.experiment()\n",
    "\n",
    "    g = e.random_net(n, m)\n",
    "\n",
    "    print type(g)\n",
    "    \n",
    "    connected_components = g.clusters()\n",
    "    \n",
    "    print type(connected_components)\n",
    "    \n",
    "    print connected_components\n",
    "\n",
    "    dominant_component = connected_components.giant()\n",
    "    \n",
    "    g = dominant_component\n",
    "\n",
    "    e.show(g)\n",
    "    \n",
    "new_compare_resiliences(30, 30)"
   ]
  },
  {
   "cell_type": "code",
   "execution_count": null,
   "metadata": {},
   "outputs": [],
   "source": []
  }
 ],
 "metadata": {
  "kernelspec": {
   "display_name": "Python 2",
   "language": "python",
   "name": "python2"
  },
  "language_info": {
   "codemirror_mode": {
    "name": "ipython",
    "version": 2
   },
   "file_extension": ".py",
   "mimetype": "text/x-python",
   "name": "python",
   "nbconvert_exporter": "python",
   "pygments_lexer": "ipython2",
   "version": "2.7.14"
  }
 },
 "nbformat": 4,
 "nbformat_minor": 2
}
