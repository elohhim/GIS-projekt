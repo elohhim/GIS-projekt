{
 "cells": [
  {
   "cell_type": "code",
   "execution_count": 147,
   "metadata": {},
   "outputs": [
    {
     "data": {
      "text/plain": [
       "<module 'attack' from '/home/jovyan/work/workshop/src/attack.py'>"
      ]
     },
     "execution_count": 147,
     "metadata": {},
     "output_type": "execute_result"
    }
   ],
   "source": [
    "import attack\n",
    "from importlib import reload\n",
    "reload(attack)"
   ]
  },
  {
   "cell_type": "code",
   "execution_count": 149,
   "metadata": {},
   "outputs": [
    {
     "name": "stdout",
     "output_type": "stream",
     "text": [
      "### Processing graphs of 10 vertices and 10 edges. ###\n",
      "- Graph type: euclidean.  Performing 10000 attacks.\n",
      "0 attacks done.\n",
      "1000 attacks done.\n",
      "2000 attacks done.\n",
      "3000 attacks done.\n",
      "4000 attacks done.\n",
      "5000 attacks done.\n",
      "6000 attacks done.\n",
      "7000 attacks done.\n",
      "8000 attacks done.\n",
      "9000 attacks done.\n",
      "Successes: 2617. Break probability 0.2617.\n",
      "- Graph type: random.  Performing 10000 attacks.\n",
      "0 attacks done.\n",
      "1000 attacks done.\n",
      "2000 attacks done.\n",
      "3000 attacks done.\n",
      "4000 attacks done.\n",
      "5000 attacks done.\n",
      "6000 attacks done.\n",
      "7000 attacks done.\n",
      "8000 attacks done.\n",
      "9000 attacks done.\n",
      "Successes: 3786. Break probability 0.3786.\n",
      "### Processing graphs of 100 vertices and 100 edges. ###\n",
      "- Graph type: euclidean.  Performing 10000 attacks.\n",
      "0 attacks done.\n",
      "1000 attacks done.\n",
      "2000 attacks done.\n",
      "3000 attacks done.\n",
      "4000 attacks done.\n",
      "5000 attacks done.\n",
      "6000 attacks done.\n",
      "7000 attacks done.\n",
      "8000 attacks done.\n",
      "9000 attacks done.\n",
      "Successes: 2970. Break probability 0.297.\n",
      "- Graph type: random.  Performing 10000 attacks.\n",
      "0 attacks done.\n",
      "1000 attacks done.\n",
      "2000 attacks done.\n",
      "3000 attacks done.\n",
      "4000 attacks done.\n",
      "5000 attacks done.\n",
      "6000 attacks done.\n",
      "7000 attacks done.\n",
      "8000 attacks done.\n",
      "9000 attacks done.\n",
      "Successes: 3668. Break probability 0.3668.\n",
      "### Processing graphs of 1000 vertices and 1000 edges. ###\n",
      "- Graph type: euclidean.  Performing 10000 attacks.\n",
      "0 attacks done.\n",
      "1000 attacks done.\n",
      "2000 attacks done.\n",
      "3000 attacks done.\n",
      "4000 attacks done.\n",
      "5000 attacks done.\n",
      "6000 attacks done.\n",
      "7000 attacks done.\n",
      "8000 attacks done.\n",
      "9000 attacks done.\n",
      "Successes: 3091. Break probability 0.3091.\n",
      "- Graph type: random.  Performing 10000 attacks.\n",
      "0 attacks done.\n",
      "1000 attacks done.\n",
      "2000 attacks done.\n",
      "3000 attacks done.\n",
      "4000 attacks done.\n",
      "5000 attacks done.\n",
      "6000 attacks done.\n",
      "7000 attacks done.\n",
      "8000 attacks done.\n",
      "9000 attacks done.\n",
      "Successes: 3653. Break probability 0.3653.\n",
      "### Processing graphs of 10000 vertices and 10000 edges. ###\n",
      "- Graph type: euclidean.  Performing 10000 attacks.\n",
      "0 attacks done.\n",
      "1000 attacks done.\n",
      "2000 attacks done.\n",
      "3000 attacks done.\n",
      "4000 attacks done.\n",
      "5000 attacks done.\n",
      "6000 attacks done.\n",
      "7000 attacks done.\n",
      "8000 attacks done.\n",
      "9000 attacks done.\n",
      "Successes: 3106. Break probability 0.3106.\n",
      "- Graph type: random.  Performing 10000 attacks.\n",
      "0 attacks done.\n",
      "1000 attacks done.\n",
      "2000 attacks done.\n",
      "3000 attacks done.\n",
      "4000 attacks done.\n",
      "5000 attacks done.\n",
      "6000 attacks done.\n",
      "7000 attacks done.\n",
      "8000 attacks done.\n",
      "9000 attacks done.\n",
      "Successes: 3660. Break probability 0.366.\n"
     ]
    }
   ],
   "source": [
    "k = 10000\n",
    "for n in (10**p for p in range(1,5)):\n",
    "    m = n\n",
    "    print(f\"### Processing graphs of {n} vertices and {m} edges. ###\")\n",
    "    for graph_type in ['euclidean', 'random']:\n",
    "        print(f\"- Graph type: {graph_type}.  Performing {k} attacks.\")\n",
    "        attack.process(n, m, k, graph_type, dcc=False, strategy='new_cluster', show=False)"
   ]
  },
  {
   "cell_type": "code",
   "execution_count": 138,
   "metadata": {},
   "outputs": [
    {
     "ename": "KeyboardInterrupt",
     "evalue": "",
     "output_type": "error",
     "traceback": [
      "\u001b[0;31m---------------------------------------------------------------------------\u001b[0m",
      "\u001b[0;31mKeyboardInterrupt\u001b[0m                         Traceback (most recent call last)",
      "\u001b[0;32m<ipython-input-138-2094aa837d72>\u001b[0m in \u001b[0;36m<module>\u001b[0;34m()\u001b[0m\n\u001b[0;32m----> 1\u001b[0;31m \u001b[0mattack\u001b[0m\u001b[0;34m.\u001b[0m\u001b[0mgenerate_euclidean_graph\u001b[0m\u001b[0;34m(\u001b[0m\u001b[0;36m100\u001b[0m\u001b[0;34m,\u001b[0m \u001b[0;36m10000\u001b[0m\u001b[0;34m)\u001b[0m\u001b[0;34m\u001b[0m\u001b[0m\n\u001b[0m",
      "\u001b[0;32m~/work/workshop/src/attack.py\u001b[0m in \u001b[0;36mgenerate_euclidean_graph\u001b[0;34m(n, m, dcc, epsilon)\u001b[0m\n\u001b[1;32m     19\u001b[0m     \u001b[0mradius\u001b[0m \u001b[0;34m=\u001b[0m \u001b[0;36m0.01\u001b[0m\u001b[0;34m\u001b[0m\u001b[0m\n\u001b[1;32m     20\u001b[0m     \u001b[0;32mwhile\u001b[0m \u001b[0;32mTrue\u001b[0m\u001b[0;34m:\u001b[0m\u001b[0;34m\u001b[0m\u001b[0m\n\u001b[0;32m---> 21\u001b[0;31m         \u001b[0mg\u001b[0m \u001b[0;34m=\u001b[0m \u001b[0migraph\u001b[0m\u001b[0;34m.\u001b[0m\u001b[0mGraph\u001b[0m\u001b[0;34m.\u001b[0m\u001b[0mGRG\u001b[0m\u001b[0;34m(\u001b[0m\u001b[0mn\u001b[0m\u001b[0;34m,\u001b[0m \u001b[0mradius\u001b[0m\u001b[0;34m)\u001b[0m\u001b[0;34m\u001b[0m\u001b[0m\n\u001b[0m\u001b[1;32m     22\u001b[0m         \u001b[0mdeviation\u001b[0m \u001b[0;34m=\u001b[0m \u001b[0;34m(\u001b[0m\u001b[0mm\u001b[0m\u001b[0;34m-\u001b[0m\u001b[0mg\u001b[0m\u001b[0;34m.\u001b[0m\u001b[0mecount\u001b[0m\u001b[0;34m(\u001b[0m\u001b[0;34m)\u001b[0m\u001b[0;34m)\u001b[0m\u001b[0;34m/\u001b[0m\u001b[0mm\u001b[0m\u001b[0;34m\u001b[0m\u001b[0m\n\u001b[1;32m     23\u001b[0m         \u001b[0;32mif\u001b[0m \u001b[0mabs\u001b[0m\u001b[0;34m(\u001b[0m\u001b[0mdeviation\u001b[0m\u001b[0;34m)\u001b[0m \u001b[0;34m<\u001b[0m \u001b[0mepsilon\u001b[0m\u001b[0;34m:\u001b[0m\u001b[0;34m\u001b[0m\u001b[0m\n",
      "\u001b[0;32m/opt/conda/lib/python3.6/site-packages/igraph/__init__.py\u001b[0m in \u001b[0;36mGRG\u001b[0;34m(klass, n, radius, torus)\u001b[0m\n\u001b[1;32m   2612\u001b[0m           \u001b[0msquare\u001b[0m\u001b[0;34m.\u001b[0m\u001b[0;34m\u001b[0m\u001b[0m\n\u001b[1;32m   2613\u001b[0m         \"\"\"\n\u001b[0;32m-> 2614\u001b[0;31m         \u001b[0mresult\u001b[0m\u001b[0;34m,\u001b[0m \u001b[0mxs\u001b[0m\u001b[0;34m,\u001b[0m \u001b[0mys\u001b[0m \u001b[0;34m=\u001b[0m \u001b[0mklass\u001b[0m\u001b[0;34m.\u001b[0m\u001b[0m_GRG\u001b[0m\u001b[0;34m(\u001b[0m\u001b[0mn\u001b[0m\u001b[0;34m,\u001b[0m \u001b[0mradius\u001b[0m\u001b[0;34m,\u001b[0m \u001b[0mtorus\u001b[0m\u001b[0;34m)\u001b[0m\u001b[0;34m\u001b[0m\u001b[0m\n\u001b[0m\u001b[1;32m   2615\u001b[0m         \u001b[0mresult\u001b[0m\u001b[0;34m.\u001b[0m\u001b[0mvs\u001b[0m\u001b[0;34m[\u001b[0m\u001b[0;34m\"x\"\u001b[0m\u001b[0;34m]\u001b[0m \u001b[0;34m=\u001b[0m \u001b[0mxs\u001b[0m\u001b[0;34m\u001b[0m\u001b[0m\n\u001b[1;32m   2616\u001b[0m         \u001b[0mresult\u001b[0m\u001b[0;34m.\u001b[0m\u001b[0mvs\u001b[0m\u001b[0;34m[\u001b[0m\u001b[0;34m\"y\"\u001b[0m\u001b[0;34m]\u001b[0m \u001b[0;34m=\u001b[0m \u001b[0mys\u001b[0m\u001b[0;34m\u001b[0m\u001b[0m\n",
      "\u001b[0;31mKeyboardInterrupt\u001b[0m: "
     ]
    }
   ],
   "source": [
    "attack.generate_euclidean_graph(100, 10000)"
   ]
  }
 ],
 "metadata": {
  "kernelspec": {
   "display_name": "Python 3",
   "language": "python",
   "name": "python3"
  },
  "language_info": {
   "codemirror_mode": {
    "name": "ipython",
    "version": 3
   },
   "file_extension": ".py",
   "mimetype": "text/x-python",
   "name": "python",
   "nbconvert_exporter": "python",
   "pygments_lexer": "ipython3",
   "version": "3.6.4"
  }
 },
 "nbformat": 4,
 "nbformat_minor": 2
}
