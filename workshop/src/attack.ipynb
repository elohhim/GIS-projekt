{
 "cells": [
  {
   "cell_type": "code",
   "execution_count": 19,
   "metadata": {},
   "outputs": [
    {
     "data": {
      "text/plain": [
       "<module 'attack' from '/home/jovyan/work/workshop/src/attack.py'>"
      ]
     },
     "execution_count": 19,
     "metadata": {},
     "output_type": "execute_result"
    }
   ],
   "source": [
    "import attack\n",
    "from importlib import reload\n",
    "reload(attack)"
   ]
  },
  {
   "cell_type": "code",
   "execution_count": 390,
   "metadata": {},
   "outputs": [
    {
     "name": "stdout",
     "output_type": "stream",
     "text": [
      "CPU times: user 0 ns, sys: 0 ns, total: 0 ns\n",
      "Wall time: 360 µs\n",
      "CPU times: user 150 ms, sys: 20 ms, total: 170 ms\n",
      "Wall time: 172 ms\n",
      "CPU times: user 0 ns, sys: 0 ns, total: 0 ns\n",
      "Wall time: 127 µs\n"
     ]
    },
    {
     "data": {
      "text/plain": [
       "AnalysisResult(tries=1000.0, successes=204.9, failures=795.1)"
      ]
     },
     "execution_count": 390,
     "metadata": {},
     "output_type": "execute_result"
    }
   ],
   "source": [
    "import numpy as np\n",
    "%time population = attack.generate_graph_population(10, \"random\", 4, 6)\n",
    "%time results = [attack.analyse_attack(g, 1000, 3) for g in population]\n",
    "%time attack.AnalysisResult(*tuple(np.mean(results, axis=0)))"
   ]
  },
  {
   "cell_type": "code",
   "execution_count": 5,
   "metadata": {},
   "outputs": [
    {
     "name": "stdout",
     "output_type": "stream",
     "text": [
      "CPU times: user 60 ms, sys: 20 ms, total: 80 ms\n",
      "Wall time: 74.5 ms\n",
      "CPU times: user 7.18 s, sys: 1.59 s, total: 8.77 s\n",
      "Wall time: 8.8 s\n"
     ]
    },
    {
     "data": {
      "text/plain": [
       "<igraph.Graph at 0x7fd3cc03b048>"
      ]
     },
     "execution_count": 5,
     "metadata": {},
     "output_type": "execute_result"
    }
   ],
   "source": [
    "import igraph\n",
    "import random\n",
    "g = igraph.Graph.Erdos_Renyi(1000000, m=100000, directed=False)\n",
    "%time attack.perform_attack(g, 200)\n",
    "%time attack.perform_attack_old(g, 200)"
   ]
  },
  {
   "cell_type": "code",
   "execution_count": 20,
   "metadata": {},
   "outputs": [
    {
     "name": "stdout",
     "output_type": "stream",
     "text": [
      "### Analysing graph population defined by: PopulationParameters(size=100, graph_type='random', n=2, m=1)\n",
      "## Analysis results:\n",
      "# Params: AttackParameters(tries=10000, multiplicity=1, failure_threshold=1000.0)\n",
      "# Mean: AttackResult(tries=10000.0, successes=10000.0, failures=0.0, probability=1.0)\n",
      "### Analysing graph population defined by: PopulationParameters(size=100, graph_type='random', n=3, m=2)\n",
      "## Analysis results:\n",
      "# Params: AttackParameters(tries=10000, multiplicity=1, failure_threshold=1000.0)\n",
      "# Mean: AttackResult(tries=10000.0, successes=10000.0, failures=0.0, probability=1.0)\n",
      "### Analysing graph population defined by: PopulationParameters(size=100, graph_type='random', n=3, m=3)\n",
      "## Analysis results:\n",
      "# Params: AttackParameters(tries=10000, multiplicity=1, failure_threshold=1000.0)\n",
      "# Mean: AttackResult(tries=1000.0, successes=0.0, failures=1000.0, probability=0.0)\n",
      "### Analysing graph population defined by: PopulationParameters(size=100, graph_type='random', n=4, m=3)\n",
      "## Analysis results:\n",
      "# Params: AttackParameters(tries=10000, multiplicity=1, failure_threshold=1000.0)\n",
      "# Mean: AttackResult(tries=10000.0, successes=10000.0, failures=0.0, probability=1.0)\n",
      "### Analysing graph population defined by: PopulationParameters(size=100, graph_type='random', n=4, m=4)\n",
      "## Analysis results:\n",
      "# Params: AttackParameters(tries=10000, multiplicity=1, failure_threshold=1000.0)\n",
      "# Mean: AttackResult(tries=1258.07, successes=258.07, failures=1000.0, probability=0.19311153064379868)\n",
      "### Analysing graph population defined by: PopulationParameters(size=100, graph_type='random', n=4, m=5)\n",
      "## Analysis results:\n",
      "# Params: AttackParameters(tries=10000, multiplicity=1, failure_threshold=1000.0)\n",
      "# Mean: AttackResult(tries=1000.0, successes=0.0, failures=1000.0, probability=0.0)\n",
      "CPU times: user 42.7 s, sys: 40 ms, total: 42.7 s\n",
      "Wall time: 42.8 s\n"
     ]
    }
   ],
   "source": [
    "%time attack.process()"
   ]
  }
 ],
 "metadata": {
  "kernelspec": {
   "display_name": "Python 3",
   "language": "python",
   "name": "python3"
  },
  "language_info": {
   "codemirror_mode": {
    "name": "ipython",
    "version": 3
   },
   "file_extension": ".py",
   "mimetype": "text/x-python",
   "name": "python",
   "nbconvert_exporter": "python",
   "pygments_lexer": "ipython3",
   "version": "3.6.4"
  }
 },
 "nbformat": 4,
 "nbformat_minor": 2
}
