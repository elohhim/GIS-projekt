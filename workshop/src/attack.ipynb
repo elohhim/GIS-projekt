{
 "cells": [
  {
   "cell_type": "code",
   "execution_count": 47,
   "metadata": {},
   "outputs": [
    {
     "data": {
      "text/plain": [
       "<module 'attack' from '/home/jovyan/work/workshop/src/attack.py'>"
      ]
     },
     "execution_count": 47,
     "metadata": {},
     "output_type": "execute_result"
    }
   ],
   "source": [
    "import attack\n",
    "from importlib import reload\n",
    "reload(attack)"
   ]
  },
  {
   "cell_type": "code",
   "execution_count": 390,
   "metadata": {},
   "outputs": [
    {
     "name": "stdout",
     "output_type": "stream",
     "text": [
      "CPU times: user 0 ns, sys: 0 ns, total: 0 ns\n",
      "Wall time: 360 µs\n",
      "CPU times: user 150 ms, sys: 20 ms, total: 170 ms\n",
      "Wall time: 172 ms\n",
      "CPU times: user 0 ns, sys: 0 ns, total: 0 ns\n",
      "Wall time: 127 µs\n"
     ]
    },
    {
     "data": {
      "text/plain": [
       "AnalysisResult(tries=1000.0, successes=204.9, failures=795.1)"
      ]
     },
     "execution_count": 390,
     "metadata": {},
     "output_type": "execute_result"
    }
   ],
   "source": [
    "import numpy as np\n",
    "%time population = attack.generate_graph_population(10, \"random\", 4, 6)\n",
    "%time results = [attack.analyse_attack(g, 1000, 3) for g in population]\n",
    "%time attack.AnalysisResult(*tuple(np.mean(results, axis=0)))"
   ]
  },
  {
   "cell_type": "code",
   "execution_count": 5,
   "metadata": {},
   "outputs": [
    {
     "name": "stdout",
     "output_type": "stream",
     "text": [
      "CPU times: user 60 ms, sys: 20 ms, total: 80 ms\n",
      "Wall time: 74.5 ms\n",
      "CPU times: user 7.18 s, sys: 1.59 s, total: 8.77 s\n",
      "Wall time: 8.8 s\n"
     ]
    },
    {
     "data": {
      "text/plain": [
       "<igraph.Graph at 0x7fd3cc03b048>"
      ]
     },
     "execution_count": 5,
     "metadata": {},
     "output_type": "execute_result"
    }
   ],
   "source": [
    "import igraph\n",
    "import random\n",
    "g = igraph.Graph.Erdos_Renyi(1000000, m=100000, directed=False)\n",
    "%time attack.perform_attack(g, 200)\n",
    "%time attack.perform_attack_old(g, 200)"
   ]
  },
  {
   "cell_type": "code",
   "execution_count": 43,
   "metadata": {},
   "outputs": [
    {
     "data": {
      "text/plain": [
       "[<igraph.Graph at 0x7f88fdc2e318>,\n",
       " <igraph.Graph at 0x7f88fdc2e408>,\n",
       " <igraph.Graph at 0x7f88fdc2e4f8>,\n",
       " <igraph.Graph at 0x7f88fdc2e5e8>,\n",
       " <igraph.Graph at 0x7f88fdc2e6d8>,\n",
       " <igraph.Graph at 0x7f88fdc2e7c8>,\n",
       " <igraph.Graph at 0x7f88fdc2e8b8>,\n",
       " <igraph.Graph at 0x7f88fdc2e9a8>,\n",
       " <igraph.Graph at 0x7f88fdc2ea98>,\n",
       " <igraph.Graph at 0x7f88fdc2eb88>,\n",
       " <igraph.Graph at 0x7f88fdc2ec78>,\n",
       " <igraph.Graph at 0x7f88fdc2ed68>,\n",
       " <igraph.Graph at 0x7f88fdc2ee58>,\n",
       " <igraph.Graph at 0x7f88fdc2c048>,\n",
       " <igraph.Graph at 0x7f88fdc2c138>,\n",
       " <igraph.Graph at 0x7f88fdc2c228>,\n",
       " <igraph.Graph at 0x7f88fdc2c318>,\n",
       " <igraph.Graph at 0x7f88fdc2c408>,\n",
       " <igraph.Graph at 0x7f88fdc2c4f8>,\n",
       " <igraph.Graph at 0x7f88fdc2c5e8>,\n",
       " <igraph.Graph at 0x7f88fdc2c6d8>,\n",
       " <igraph.Graph at 0x7f88fdc2c7c8>,\n",
       " <igraph.Graph at 0x7f88fdc2c8b8>,\n",
       " <igraph.Graph at 0x7f88fdc2c9a8>,\n",
       " <igraph.Graph at 0x7f88fdc2ca98>,\n",
       " <igraph.Graph at 0x7f88fdc2cb88>,\n",
       " <igraph.Graph at 0x7f88fdc2cc78>,\n",
       " <igraph.Graph at 0x7f88fdc2cd68>,\n",
       " <igraph.Graph at 0x7f88fdc2ce58>,\n",
       " <igraph.Graph at 0x7f88fdc32048>,\n",
       " <igraph.Graph at 0x7f88fdc32138>,\n",
       " <igraph.Graph at 0x7f88fdc32228>,\n",
       " <igraph.Graph at 0x7f88fdc32318>,\n",
       " <igraph.Graph at 0x7f88fdc32408>,\n",
       " <igraph.Graph at 0x7f88fdc324f8>,\n",
       " <igraph.Graph at 0x7f88fdc325e8>,\n",
       " <igraph.Graph at 0x7f88fdc326d8>,\n",
       " <igraph.Graph at 0x7f88fdc327c8>,\n",
       " <igraph.Graph at 0x7f88fdc328b8>,\n",
       " <igraph.Graph at 0x7f88fdc329a8>,\n",
       " <igraph.Graph at 0x7f88fdc32a98>,\n",
       " <igraph.Graph at 0x7f88fdc32b88>,\n",
       " <igraph.Graph at 0x7f88fdc32c78>,\n",
       " <igraph.Graph at 0x7f88fdc32d68>,\n",
       " <igraph.Graph at 0x7f88fdc32e58>,\n",
       " <igraph.Graph at 0x7f88fdc3f048>,\n",
       " <igraph.Graph at 0x7f88fdc3f138>,\n",
       " <igraph.Graph at 0x7f88fdc3f228>,\n",
       " <igraph.Graph at 0x7f88fdc3f318>,\n",
       " <igraph.Graph at 0x7f88fdc3f408>,\n",
       " <igraph.Graph at 0x7f88fdc3f4f8>,\n",
       " <igraph.Graph at 0x7f88ff32b228>,\n",
       " <igraph.Graph at 0x7f88ff832c78>,\n",
       " <igraph.Graph at 0x7f88fdc3f5e8>,\n",
       " <igraph.Graph at 0x7f88fdc3f6d8>,\n",
       " <igraph.Graph at 0x7f88fdc3f7c8>,\n",
       " <igraph.Graph at 0x7f88fdc3f8b8>,\n",
       " <igraph.Graph at 0x7f88fdc3f9a8>,\n",
       " <igraph.Graph at 0x7f88fdc3fa98>,\n",
       " <igraph.Graph at 0x7f88fdc3fb88>,\n",
       " <igraph.Graph at 0x7f88fdc3fc78>,\n",
       " <igraph.Graph at 0x7f88fdc3fd68>,\n",
       " <igraph.Graph at 0x7f88fdc3fe58>,\n",
       " <igraph.Graph at 0x7f88fdc4c048>,\n",
       " <igraph.Graph at 0x7f88fdc4c138>,\n",
       " <igraph.Graph at 0x7f88fdc4c228>,\n",
       " <igraph.Graph at 0x7f88fdc4c318>,\n",
       " <igraph.Graph at 0x7f88fdc4c408>,\n",
       " <igraph.Graph at 0x7f88fdc4c4f8>,\n",
       " <igraph.Graph at 0x7f88fdc4c5e8>,\n",
       " <igraph.Graph at 0x7f88fdc4c6d8>,\n",
       " <igraph.Graph at 0x7f88fdc4c7c8>,\n",
       " <igraph.Graph at 0x7f88fdc4c8b8>,\n",
       " <igraph.Graph at 0x7f88fdc4c9a8>,\n",
       " <igraph.Graph at 0x7f88fdc4ca98>,\n",
       " <igraph.Graph at 0x7f88fdc4cb88>,\n",
       " <igraph.Graph at 0x7f88fdc4cc78>,\n",
       " <igraph.Graph at 0x7f88fdc4cd68>,\n",
       " <igraph.Graph at 0x7f88fdc4ce58>,\n",
       " <igraph.Graph at 0x7f88fdc4f048>,\n",
       " <igraph.Graph at 0x7f88fdc4f138>,\n",
       " <igraph.Graph at 0x7f88fdc4f228>,\n",
       " <igraph.Graph at 0x7f88fdc4f318>,\n",
       " <igraph.Graph at 0x7f88fdc4f408>,\n",
       " <igraph.Graph at 0x7f88fdc4f4f8>,\n",
       " <igraph.Graph at 0x7f88fdc4f5e8>,\n",
       " <igraph.Graph at 0x7f88fdc4f6d8>,\n",
       " <igraph.Graph at 0x7f88fdc4f7c8>,\n",
       " <igraph.Graph at 0x7f88fdc4f8b8>,\n",
       " <igraph.Graph at 0x7f88fdc4f9a8>,\n",
       " <igraph.Graph at 0x7f88fdc4fa98>,\n",
       " <igraph.Graph at 0x7f88fdc4fb88>,\n",
       " <igraph.Graph at 0x7f88fdc4fc78>,\n",
       " <igraph.Graph at 0x7f88fdc4fd68>,\n",
       " <igraph.Graph at 0x7f88fdc4fe58>,\n",
       " <igraph.Graph at 0x7f88fdc48048>,\n",
       " <igraph.Graph at 0x7f88fdc48138>,\n",
       " <igraph.Graph at 0x7f88fdc48228>,\n",
       " <igraph.Graph at 0x7f88fdc48318>,\n",
       " <igraph.Graph at 0x7f88fdc48408>]"
      ]
     },
     "execution_count": 43,
     "metadata": {},
     "output_type": "execute_result"
    }
   ],
   "source": [
    "attack.generate_graph_population(100, \"random\", 4000, 8000)"
   ]
  },
  {
   "cell_type": "code",
   "execution_count": 46,
   "metadata": {},
   "outputs": [
    {
     "name": "stdout",
     "output_type": "stream",
     "text": [
      "### Analysing graph population defined by: PopulationParameters(size=100, graph_type='random', n=4000, m=8000)\n",
      "## Analysis results:\n",
      "# Params: AttackParameters(tries=10000, multiplicity=1, failure_threshold=1000.0)\n",
      "# Mean: AttackResult(tries=1038.67, successes=38.67, failures=1000.0, probability=0.03719601264444075)\n",
      "## Analysis results:\n",
      "# Params: AttackParameters(tries=10000, multiplicity=2, failure_threshold=1000.0)\n",
      "# Mean: AttackResult(tries=1081.65, successes=81.65, failures=1000.0, probability=0.07540847017926817)\n",
      "## Analysis results:\n",
      "# Params: AttackParameters(tries=10000, multiplicity=4, failure_threshold=1000.0)\n",
      "# Mean: AttackResult(tries=1172.54, successes=172.54, failures=1000.0, probability=0.1470026213148808)\n",
      "## Analysis results:\n",
      "# Params: AttackParameters(tries=10000, multiplicity=8, failure_threshold=1000.0)\n",
      "# Mean: AttackResult(tries=1371.09, successes=371.09, failures=1000.0, probability=0.27026018669174584)\n",
      "## Analysis results:\n",
      "# Params: AttackParameters(tries=10000, multiplicity=16, failure_threshold=1000.0)\n",
      "# Mean: AttackResult(tries=1893.62, successes=893.62, failures=1000.0, probability=0.471233248589081)\n",
      "## Analysis results:\n",
      "# Params: AttackParameters(tries=10000, multiplicity=32, failure_threshold=1000.0)\n",
      "# Mean: AttackResult(tries=3592.54, successes=2592.54, failures=1000.0, probability=0.7204124430175031)\n"
     ]
    },
    {
     "ename": "KeyboardInterrupt",
     "evalue": "",
     "output_type": "error",
     "traceback": [
      "\u001b[0;31m---------------------------------------------------------------------------\u001b[0m",
      "\u001b[0;31mKeyboardInterrupt\u001b[0m                         Traceback (most recent call last)",
      "\u001b[0;32m<timed eval>\u001b[0m in \u001b[0;36m<module>\u001b[0;34m()\u001b[0m\n",
      "\u001b[0;32m~/work/workshop/src/attack.py\u001b[0m in \u001b[0;36mprocess\u001b[0;34m()\u001b[0m\n\u001b[1;32m    295\u001b[0m \u001b[0;32mdef\u001b[0m \u001b[0mplot_results\u001b[0m\u001b[0;34m(\u001b[0m\u001b[0mpopulation_parametes\u001b[0m\u001b[0;34m,\u001b[0m \u001b[0mresults\u001b[0m\u001b[0;34m)\u001b[0m\u001b[0;34m:\u001b[0m\u001b[0;34m\u001b[0m\u001b[0m\n\u001b[1;32m    296\u001b[0m     \"\"\"Plots population analysis reuslts\n\u001b[0;32m--> 297\u001b[0;31m     \"\"\"\n\u001b[0m\u001b[1;32m    298\u001b[0m     \u001b[0;32mimport\u001b[0m \u001b[0mmatplotlib\u001b[0m\u001b[0;34m.\u001b[0m\u001b[0mpyplot\u001b[0m \u001b[0;32mas\u001b[0m \u001b[0mplt\u001b[0m\u001b[0;34m\u001b[0m\u001b[0m\n\u001b[1;32m    299\u001b[0m     \u001b[0mplt\u001b[0m\u001b[0;34m.\u001b[0m\u001b[0mplot\u001b[0m\u001b[0;34m(\u001b[0m\u001b[0;34m[\u001b[0m\u001b[0;36m1\u001b[0m\u001b[0;34m,\u001b[0m \u001b[0;36m2\u001b[0m\u001b[0;34m,\u001b[0m \u001b[0;36m3\u001b[0m\u001b[0;34m,\u001b[0m \u001b[0;36m4\u001b[0m\u001b[0;34m]\u001b[0m\u001b[0;34m)\u001b[0m\u001b[0;34m\u001b[0m\u001b[0m\n",
      "\u001b[0;32m~/work/workshop/src/attack.py\u001b[0m in \u001b[0;36manalyse_population_attack\u001b[0;34m(population, attack_parameters)\u001b[0m\n\u001b[1;32m    265\u001b[0m     \u001b[0;34m:\u001b[0m\u001b[0mparam\u001b[0m \u001b[0mattack_parameters\u001b[0m\u001b[0;34m:\u001b[0m\u001b[0;34m\u001b[0m\u001b[0m\n\u001b[1;32m    266\u001b[0m     \u001b[0;34m:\u001b[0m\u001b[0;32mreturn\u001b[0m\u001b[0;34m:\u001b[0m\u001b[0;34m\u001b[0m\u001b[0m\n\u001b[0;32m--> 267\u001b[0;31m     \"\"\"\n\u001b[0m\u001b[1;32m    268\u001b[0m     results = [analyse_graph_attack(g, *attack_parameters)\n\u001b[1;32m    269\u001b[0m                for g in population]\n",
      "\u001b[0;32m~/work/workshop/src/attack.py\u001b[0m in \u001b[0;36m<listcomp>\u001b[0;34m(.0)\u001b[0m\n\u001b[1;32m    265\u001b[0m     \u001b[0;34m:\u001b[0m\u001b[0mparam\u001b[0m \u001b[0mattack_parameters\u001b[0m\u001b[0;34m:\u001b[0m\u001b[0;34m\u001b[0m\u001b[0m\n\u001b[1;32m    266\u001b[0m     \u001b[0;34m:\u001b[0m\u001b[0;32mreturn\u001b[0m\u001b[0;34m:\u001b[0m\u001b[0;34m\u001b[0m\u001b[0m\n\u001b[0;32m--> 267\u001b[0;31m     \"\"\"\n\u001b[0m\u001b[1;32m    268\u001b[0m     results = [analyse_graph_attack(g, *attack_parameters)\n\u001b[1;32m    269\u001b[0m                for g in population]\n",
      "\u001b[0;32m~/work/workshop/src/attack.py\u001b[0m in \u001b[0;36manalyse_graph_attack\u001b[0;34m(g, tries, multiplicity, failure_threshold)\u001b[0m\n\u001b[1;32m    232\u001b[0m     \"\"\"\n\u001b[1;32m    233\u001b[0m     \u001b[0mfailures\u001b[0m \u001b[0;34m=\u001b[0m \u001b[0;36m0\u001b[0m\u001b[0;34m\u001b[0m\u001b[0m\n\u001b[0;32m--> 234\u001b[0;31m     \u001b[0msuccesses\u001b[0m \u001b[0;34m=\u001b[0m \u001b[0;36m0\u001b[0m\u001b[0;34m\u001b[0m\u001b[0m\n\u001b[0m\u001b[1;32m    235\u001b[0m     \u001b[0;32mfor\u001b[0m \u001b[0mi\u001b[0m \u001b[0;32min\u001b[0m \u001b[0mrange\u001b[0m\u001b[0;34m(\u001b[0m\u001b[0mtries\u001b[0m\u001b[0;34m)\u001b[0m\u001b[0;34m:\u001b[0m\u001b[0;34m\u001b[0m\u001b[0m\n\u001b[1;32m    236\u001b[0m         \u001b[0mattacked_g\u001b[0m \u001b[0;34m=\u001b[0m \u001b[0mperform_attack\u001b[0m\u001b[0;34m(\u001b[0m\u001b[0mg\u001b[0m\u001b[0;34m,\u001b[0m \u001b[0mmultiplicity\u001b[0m\u001b[0;34m)\u001b[0m\u001b[0;34m\u001b[0m\u001b[0m\n",
      "\u001b[0;32m~/work/workshop/src/attack.py\u001b[0m in \u001b[0;36mperform_attack\u001b[0;34m(g, multiplicity)\u001b[0m\n\u001b[1;32m    211\u001b[0m     \u001b[0;34m:\u001b[0m\u001b[0mparam\u001b[0m \u001b[0mmultiplicity\u001b[0m\u001b[0;34m:\u001b[0m \u001b[0mQuantity\u001b[0m \u001b[0mof\u001b[0m \u001b[0medges\u001b[0m \u001b[0mthat\u001b[0m \u001b[0mare\u001b[0m \u001b[0mremoved\u001b[0m \u001b[0mduring\u001b[0m \u001b[0mattack\u001b[0m\u001b[0;34m.\u001b[0m\u001b[0;34m\u001b[0m\u001b[0m\n\u001b[1;32m    212\u001b[0m     \u001b[0;34m:\u001b[0m\u001b[0;32mreturn\u001b[0m\u001b[0;34m:\u001b[0m \u001b[0mGraphs\u001b[0m \u001b[0mafter\u001b[0m \u001b[0mattack\u001b[0m\u001b[0;34m.\u001b[0m\u001b[0;34m\u001b[0m\u001b[0m\n\u001b[0;32m--> 213\u001b[0;31m     \"\"\"\n\u001b[0m\u001b[1;32m    214\u001b[0m     \u001b[0mresult\u001b[0m \u001b[0;34m=\u001b[0m \u001b[0mg\u001b[0m\u001b[0;34m.\u001b[0m\u001b[0mcopy\u001b[0m\u001b[0;34m(\u001b[0m\u001b[0;34m)\u001b[0m\u001b[0;34m\u001b[0m\u001b[0m\n\u001b[1;32m    215\u001b[0m     \u001b[0mresult\u001b[0m\u001b[0;34m.\u001b[0m\u001b[0mdelete_edges\u001b[0m\u001b[0;34m(\u001b[0m\u001b[0mrandom\u001b[0m\u001b[0;34m.\u001b[0m\u001b[0msample\u001b[0m\u001b[0;34m(\u001b[0m\u001b[0mlist\u001b[0m\u001b[0;34m(\u001b[0m\u001b[0mg\u001b[0m\u001b[0;34m.\u001b[0m\u001b[0mes\u001b[0m\u001b[0;34m)\u001b[0m\u001b[0;34m,\u001b[0m \u001b[0mk\u001b[0m\u001b[0;34m=\u001b[0m\u001b[0mmultiplicity\u001b[0m\u001b[0;34m)\u001b[0m\u001b[0;34m)\u001b[0m\u001b[0;34m\u001b[0m\u001b[0m\n",
      "\u001b[0;31mKeyboardInterrupt\u001b[0m: "
     ]
    }
   ],
   "source": [
    "%time attack.process()"
   ]
  }
 ],
 "metadata": {
  "kernelspec": {
   "display_name": "Python 3",
   "language": "python",
   "name": "python3"
  },
  "language_info": {
   "codemirror_mode": {
    "name": "ipython",
    "version": 3
   },
   "file_extension": ".py",
   "mimetype": "text/x-python",
   "name": "python",
   "nbconvert_exporter": "python",
   "pygments_lexer": "ipython3",
   "version": "3.6.4"
  }
 },
 "nbformat": 4,
 "nbformat_minor": 2
}
