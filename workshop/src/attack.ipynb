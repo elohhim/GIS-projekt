{
 "cells": [
  {
   "cell_type": "code",
   "execution_count": 336,
   "metadata": {},
   "outputs": [
    {
     "data": {
      "text/plain": [
       "<module 'attack' from '/home/jovyan/work/workshop/src/attack.py'>"
      ]
     },
     "execution_count": 336,
     "metadata": {},
     "output_type": "execute_result"
    }
   ],
   "source": [
    "import attack\n",
    "from importlib import reload\n",
    "reload(attack)"
   ]
  },
  {
   "cell_type": "code",
   "execution_count": 390,
   "metadata": {},
   "outputs": [
    {
     "name": "stdout",
     "output_type": "stream",
     "text": [
      "CPU times: user 0 ns, sys: 0 ns, total: 0 ns\n",
      "Wall time: 360 µs\n",
      "CPU times: user 150 ms, sys: 20 ms, total: 170 ms\n",
      "Wall time: 172 ms\n",
      "CPU times: user 0 ns, sys: 0 ns, total: 0 ns\n",
      "Wall time: 127 µs\n"
     ]
    },
    {
     "data": {
      "text/plain": [
       "AnalysisResult(tries=1000.0, successes=204.9, failures=795.1)"
      ]
     },
     "execution_count": 390,
     "metadata": {},
     "output_type": "execute_result"
    }
   ],
   "source": [
    "import numpy as np\n",
    "%time population = attack.generate_graph_population(10, \"random\", 4, 6)\n",
    "%time results = [attack.analyse_attack(g, 1000, 3) for g in population]\n",
    "%time attack.AnalysisResult(*tuple(np.mean(results, axis=0)))"
   ]
  },
  {
   "cell_type": "code",
   "execution_count": 297,
   "metadata": {},
   "outputs": [
    {
     "name": "stdout",
     "output_type": "stream",
     "text": [
      "CPU times: user 60 ms, sys: 0 ns, total: 60 ms\n",
      "Wall time: 64 ms\n",
      "CPU times: user 11 s, sys: 1.55 s, total: 12.5 s\n",
      "Wall time: 12.6 s\n"
     ]
    },
    {
     "data": {
      "text/plain": [
       "<igraph.Graph at 0x7f8146f376d8>"
      ]
     },
     "execution_count": 297,
     "metadata": {},
     "output_type": "execute_result"
    }
   ],
   "source": [
    "import igraph\n",
    "import random\n",
    "g = igraph.Graph.Erdos_Renyi(1000000, m=100000, directed=False)\n",
    "result = attack.perform_attack2(g, 10)\n",
    "%time attack.perform_attack(g, 200)\n",
    "%time attack.perform_attack2(g, 200)"
   ]
  },
  {
   "cell_type": "code",
   "execution_count": 280,
   "metadata": {},
   "outputs": [
    {
     "ename": "ValueError",
     "evalue": "Failed after 100 tries when generatinggraph:\n- type: random\n- vertices: 10000\n- edges: 10000\nInterrupting processing, please reconsider if it is possible to create such connected graph within given epsilon boundaries (0.1).",
     "output_type": "error",
     "traceback": [
      "\u001b[0;31m---------------------------------------------------------------------------\u001b[0m",
      "\u001b[0;31mValueError\u001b[0m                                Traceback (most recent call last)",
      "\u001b[0;32m<timed eval>\u001b[0m in \u001b[0;36m<module>\u001b[0;34m()\u001b[0m\n",
      "\u001b[0;32m~/work/workshop/src/attack.py\u001b[0m in \u001b[0;36mgenerate_graph_population\u001b[0;34m(population_size, graph_type, n, m, epsilon)\u001b[0m\n\u001b[1;32m     94\u001b[0m \u001b[0;34m\u001b[0m\u001b[0m\n\u001b[1;32m     95\u001b[0m     return [graph_factory(graph_type, n, m, epsilon)\n\u001b[0;32m---> 96\u001b[0;31m             for _ in range(population_size)]\n\u001b[0m\u001b[1;32m     97\u001b[0m \u001b[0;34m\u001b[0m\u001b[0m\n\u001b[1;32m     98\u001b[0m \u001b[0;34m\u001b[0m\u001b[0m\n",
      "\u001b[0;32m~/work/workshop/src/attack.py\u001b[0m in \u001b[0;36m<listcomp>\u001b[0;34m(.0)\u001b[0m\n\u001b[1;32m     94\u001b[0m \u001b[0;34m\u001b[0m\u001b[0m\n\u001b[1;32m     95\u001b[0m     return [graph_factory(graph_type, n, m, epsilon)\n\u001b[0;32m---> 96\u001b[0;31m             for _ in range(population_size)]\n\u001b[0m\u001b[1;32m     97\u001b[0m \u001b[0;34m\u001b[0m\u001b[0m\n\u001b[1;32m     98\u001b[0m \u001b[0;34m\u001b[0m\u001b[0m\n",
      "\u001b[0;32m~/work/workshop/src/attack.py\u001b[0m in \u001b[0;36mgraph_factory\u001b[0;34m(graph_type, n, m, epsilon)\u001b[0m\n\u001b[1;32m     68\u001b[0m     \u001b[0;32melse\u001b[0m\u001b[0;34m:\u001b[0m\u001b[0;34m\u001b[0m\u001b[0m\n\u001b[1;32m     69\u001b[0m         raise ValueError(\n\u001b[0;32m---> 70\u001b[0;31m             \u001b[0;34mf\"Failed after {max_tries} tries when generating\"\u001b[0m\u001b[0;34m\u001b[0m\u001b[0m\n\u001b[0m\u001b[1;32m     71\u001b[0m             \u001b[0;34mf\"graph:\\n\"\u001b[0m\u001b[0;34m\u001b[0m\u001b[0m\n\u001b[1;32m     72\u001b[0m             \u001b[0;34mf\"- type: {graph_type}\\n\"\u001b[0m\u001b[0;34m\u001b[0m\u001b[0m\n",
      "\u001b[0;31mValueError\u001b[0m: Failed after 100 tries when generatinggraph:\n- type: random\n- vertices: 10000\n- edges: 10000\nInterrupting processing, please reconsider if it is possible to create such connected graph within given epsilon boundaries (0.1)."
     ]
    }
   ],
   "source": [
    "%time attack.generate_graph_population(1000, \"random\", 10000, 10000)"
   ]
  }
 ],
 "metadata": {
  "kernelspec": {
   "display_name": "Python 3",
   "language": "python",
   "name": "python3"
  },
  "language_info": {
   "codemirror_mode": {
    "name": "ipython",
    "version": 3
   },
   "file_extension": ".py",
   "mimetype": "text/x-python",
   "name": "python",
   "nbconvert_exporter": "python",
   "pygments_lexer": "ipython3",
   "version": "3.6.4"
  }
 },
 "nbformat": 4,
 "nbformat_minor": 2
}
