{
 "cells": [
  {
   "cell_type": "code",
   "execution_count": 45,
   "metadata": {},
   "outputs": [
    {
     "data": {
      "text/plain": [
       "<module 'attack' from '/home/jovyan/work/workshop/src/attack.py'>"
      ]
     },
     "execution_count": 45,
     "metadata": {},
     "output_type": "execute_result"
    }
   ],
   "source": [
    "import attack\n",
    "from importlib import reload\n",
    "reload(attack)"
   ]
  },
  {
   "cell_type": "code",
   "execution_count": 390,
   "metadata": {},
   "outputs": [
    {
     "name": "stdout",
     "output_type": "stream",
     "text": [
      "CPU times: user 0 ns, sys: 0 ns, total: 0 ns\n",
      "Wall time: 360 µs\n",
      "CPU times: user 150 ms, sys: 20 ms, total: 170 ms\n",
      "Wall time: 172 ms\n",
      "CPU times: user 0 ns, sys: 0 ns, total: 0 ns\n",
      "Wall time: 127 µs\n"
     ]
    },
    {
     "data": {
      "text/plain": [
       "AnalysisResult(tries=1000.0, successes=204.9, failures=795.1)"
      ]
     },
     "execution_count": 390,
     "metadata": {},
     "output_type": "execute_result"
    }
   ],
   "source": [
    "import numpy as np\n",
    "%time population = attack.generate_graph_population(10, \"random\", 4, 6)\n",
    "%time results = [attack.analyse_attack(g, 1000, 3) for g in population]\n",
    "%time attack.AnalysisResult(*tuple(np.mean(results, axis=0)))"
   ]
  },
  {
   "cell_type": "code",
   "execution_count": 5,
   "metadata": {},
   "outputs": [
    {
     "name": "stdout",
     "output_type": "stream",
     "text": [
      "CPU times: user 60 ms, sys: 20 ms, total: 80 ms\n",
      "Wall time: 74.5 ms\n",
      "CPU times: user 7.18 s, sys: 1.59 s, total: 8.77 s\n",
      "Wall time: 8.8 s\n"
     ]
    },
    {
     "data": {
      "text/plain": [
       "<igraph.Graph at 0x7fd3cc03b048>"
      ]
     },
     "execution_count": 5,
     "metadata": {},
     "output_type": "execute_result"
    }
   ],
   "source": [
    "import igraph\n",
    "import random\n",
    "g = igraph.Graph.Erdos_Renyi(1000000, m=100000, directed=False)\n",
    "%time attack.perform_attack(g, 200)\n",
    "%time attack.perform_attack_old(g, 200)"
   ]
  },
  {
   "cell_type": "code",
   "execution_count": 43,
   "metadata": {},
   "outputs": [
    {
     "data": {
      "text/plain": [
       "[<igraph.Graph at 0x7f88fdc2e318>,\n",
       " <igraph.Graph at 0x7f88fdc2e408>,\n",
       " <igraph.Graph at 0x7f88fdc2e4f8>,\n",
       " <igraph.Graph at 0x7f88fdc2e5e8>,\n",
       " <igraph.Graph at 0x7f88fdc2e6d8>,\n",
       " <igraph.Graph at 0x7f88fdc2e7c8>,\n",
       " <igraph.Graph at 0x7f88fdc2e8b8>,\n",
       " <igraph.Graph at 0x7f88fdc2e9a8>,\n",
       " <igraph.Graph at 0x7f88fdc2ea98>,\n",
       " <igraph.Graph at 0x7f88fdc2eb88>,\n",
       " <igraph.Graph at 0x7f88fdc2ec78>,\n",
       " <igraph.Graph at 0x7f88fdc2ed68>,\n",
       " <igraph.Graph at 0x7f88fdc2ee58>,\n",
       " <igraph.Graph at 0x7f88fdc2c048>,\n",
       " <igraph.Graph at 0x7f88fdc2c138>,\n",
       " <igraph.Graph at 0x7f88fdc2c228>,\n",
       " <igraph.Graph at 0x7f88fdc2c318>,\n",
       " <igraph.Graph at 0x7f88fdc2c408>,\n",
       " <igraph.Graph at 0x7f88fdc2c4f8>,\n",
       " <igraph.Graph at 0x7f88fdc2c5e8>,\n",
       " <igraph.Graph at 0x7f88fdc2c6d8>,\n",
       " <igraph.Graph at 0x7f88fdc2c7c8>,\n",
       " <igraph.Graph at 0x7f88fdc2c8b8>,\n",
       " <igraph.Graph at 0x7f88fdc2c9a8>,\n",
       " <igraph.Graph at 0x7f88fdc2ca98>,\n",
       " <igraph.Graph at 0x7f88fdc2cb88>,\n",
       " <igraph.Graph at 0x7f88fdc2cc78>,\n",
       " <igraph.Graph at 0x7f88fdc2cd68>,\n",
       " <igraph.Graph at 0x7f88fdc2ce58>,\n",
       " <igraph.Graph at 0x7f88fdc32048>,\n",
       " <igraph.Graph at 0x7f88fdc32138>,\n",
       " <igraph.Graph at 0x7f88fdc32228>,\n",
       " <igraph.Graph at 0x7f88fdc32318>,\n",
       " <igraph.Graph at 0x7f88fdc32408>,\n",
       " <igraph.Graph at 0x7f88fdc324f8>,\n",
       " <igraph.Graph at 0x7f88fdc325e8>,\n",
       " <igraph.Graph at 0x7f88fdc326d8>,\n",
       " <igraph.Graph at 0x7f88fdc327c8>,\n",
       " <igraph.Graph at 0x7f88fdc328b8>,\n",
       " <igraph.Graph at 0x7f88fdc329a8>,\n",
       " <igraph.Graph at 0x7f88fdc32a98>,\n",
       " <igraph.Graph at 0x7f88fdc32b88>,\n",
       " <igraph.Graph at 0x7f88fdc32c78>,\n",
       " <igraph.Graph at 0x7f88fdc32d68>,\n",
       " <igraph.Graph at 0x7f88fdc32e58>,\n",
       " <igraph.Graph at 0x7f88fdc3f048>,\n",
       " <igraph.Graph at 0x7f88fdc3f138>,\n",
       " <igraph.Graph at 0x7f88fdc3f228>,\n",
       " <igraph.Graph at 0x7f88fdc3f318>,\n",
       " <igraph.Graph at 0x7f88fdc3f408>,\n",
       " <igraph.Graph at 0x7f88fdc3f4f8>,\n",
       " <igraph.Graph at 0x7f88ff32b228>,\n",
       " <igraph.Graph at 0x7f88ff832c78>,\n",
       " <igraph.Graph at 0x7f88fdc3f5e8>,\n",
       " <igraph.Graph at 0x7f88fdc3f6d8>,\n",
       " <igraph.Graph at 0x7f88fdc3f7c8>,\n",
       " <igraph.Graph at 0x7f88fdc3f8b8>,\n",
       " <igraph.Graph at 0x7f88fdc3f9a8>,\n",
       " <igraph.Graph at 0x7f88fdc3fa98>,\n",
       " <igraph.Graph at 0x7f88fdc3fb88>,\n",
       " <igraph.Graph at 0x7f88fdc3fc78>,\n",
       " <igraph.Graph at 0x7f88fdc3fd68>,\n",
       " <igraph.Graph at 0x7f88fdc3fe58>,\n",
       " <igraph.Graph at 0x7f88fdc4c048>,\n",
       " <igraph.Graph at 0x7f88fdc4c138>,\n",
       " <igraph.Graph at 0x7f88fdc4c228>,\n",
       " <igraph.Graph at 0x7f88fdc4c318>,\n",
       " <igraph.Graph at 0x7f88fdc4c408>,\n",
       " <igraph.Graph at 0x7f88fdc4c4f8>,\n",
       " <igraph.Graph at 0x7f88fdc4c5e8>,\n",
       " <igraph.Graph at 0x7f88fdc4c6d8>,\n",
       " <igraph.Graph at 0x7f88fdc4c7c8>,\n",
       " <igraph.Graph at 0x7f88fdc4c8b8>,\n",
       " <igraph.Graph at 0x7f88fdc4c9a8>,\n",
       " <igraph.Graph at 0x7f88fdc4ca98>,\n",
       " <igraph.Graph at 0x7f88fdc4cb88>,\n",
       " <igraph.Graph at 0x7f88fdc4cc78>,\n",
       " <igraph.Graph at 0x7f88fdc4cd68>,\n",
       " <igraph.Graph at 0x7f88fdc4ce58>,\n",
       " <igraph.Graph at 0x7f88fdc4f048>,\n",
       " <igraph.Graph at 0x7f88fdc4f138>,\n",
       " <igraph.Graph at 0x7f88fdc4f228>,\n",
       " <igraph.Graph at 0x7f88fdc4f318>,\n",
       " <igraph.Graph at 0x7f88fdc4f408>,\n",
       " <igraph.Graph at 0x7f88fdc4f4f8>,\n",
       " <igraph.Graph at 0x7f88fdc4f5e8>,\n",
       " <igraph.Graph at 0x7f88fdc4f6d8>,\n",
       " <igraph.Graph at 0x7f88fdc4f7c8>,\n",
       " <igraph.Graph at 0x7f88fdc4f8b8>,\n",
       " <igraph.Graph at 0x7f88fdc4f9a8>,\n",
       " <igraph.Graph at 0x7f88fdc4fa98>,\n",
       " <igraph.Graph at 0x7f88fdc4fb88>,\n",
       " <igraph.Graph at 0x7f88fdc4fc78>,\n",
       " <igraph.Graph at 0x7f88fdc4fd68>,\n",
       " <igraph.Graph at 0x7f88fdc4fe58>,\n",
       " <igraph.Graph at 0x7f88fdc48048>,\n",
       " <igraph.Graph at 0x7f88fdc48138>,\n",
       " <igraph.Graph at 0x7f88fdc48228>,\n",
       " <igraph.Graph at 0x7f88fdc48318>,\n",
       " <igraph.Graph at 0x7f88fdc48408>]"
      ]
     },
     "execution_count": 43,
     "metadata": {},
     "output_type": "execute_result"
    }
   ],
   "source": [
    "attack.generate_graph_population(100, \"random\", 4000, 8000)"
   ]
  },
  {
   "cell_type": "code",
   "execution_count": null,
   "metadata": {},
   "outputs": [
    {
     "name": "stdout",
     "output_type": "stream",
     "text": [
      "### Analysing graph population defined by: PopulationParameters(size=100, graph_type='random', n=4000, m=8000)\n",
      "## Analysis results:\n",
      "# Params: AttackParameters(tries=10000, multiplicity=1, failure_threshold=1000.0)\n",
      "# Mean: AttackResult(tries=1038.67, successes=38.67, failures=1000.0, probability=0.03719601264444075)\n",
      "## Analysis results:\n",
      "# Params: AttackParameters(tries=10000, multiplicity=2, failure_threshold=1000.0)\n",
      "# Mean: AttackResult(tries=1081.65, successes=81.65, failures=1000.0, probability=0.07540847017926817)\n"
     ]
    }
   ],
   "source": [
    "%time attack.process()"
   ]
  }
 ],
 "metadata": {
  "kernelspec": {
   "display_name": "Python 3",
   "language": "python",
   "name": "python3"
  },
  "language_info": {
   "codemirror_mode": {
    "name": "ipython",
    "version": 3
   },
   "file_extension": ".py",
   "mimetype": "text/x-python",
   "name": "python",
   "nbconvert_exporter": "python",
   "pygments_lexer": "ipython3",
   "version": "3.6.4"
  }
 },
 "nbformat": 4,
 "nbformat_minor": 2
}
