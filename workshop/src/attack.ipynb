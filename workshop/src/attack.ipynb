{
 "cells": [
  {
   "cell_type": "code",
   "execution_count": 37,
   "metadata": {},
   "outputs": [
    {
     "data": {
      "text/plain": [
       "<module 'attack' from '/home/jovyan/work/workshop/src/attack.py'>"
      ]
     },
     "execution_count": 37,
     "metadata": {},
     "output_type": "execute_result"
    }
   ],
   "source": [
    "import attack\n",
    "from importlib import reload\n",
    "reload(attack)"
   ]
  },
  {
   "cell_type": "code",
   "execution_count": 390,
   "metadata": {},
   "outputs": [
    {
     "name": "stdout",
     "output_type": "stream",
     "text": [
      "CPU times: user 0 ns, sys: 0 ns, total: 0 ns\n",
      "Wall time: 360 µs\n",
      "CPU times: user 150 ms, sys: 20 ms, total: 170 ms\n",
      "Wall time: 172 ms\n",
      "CPU times: user 0 ns, sys: 0 ns, total: 0 ns\n",
      "Wall time: 127 µs\n"
     ]
    },
    {
     "data": {
      "text/plain": [
       "AnalysisResult(tries=1000.0, successes=204.9, failures=795.1)"
      ]
     },
     "execution_count": 390,
     "metadata": {},
     "output_type": "execute_result"
    }
   ],
   "source": [
    "import numpy as np\n",
    "%time population = attack.generate_graph_population(10, \"random\", 4, 6)\n",
    "%time results = [attack.analyse_attack(g, 1000, 3) for g in population]\n",
    "%time attack.AnalysisResult(*tuple(np.mean(results, axis=0)))"
   ]
  },
  {
   "cell_type": "code",
   "execution_count": 5,
   "metadata": {},
   "outputs": [
    {
     "name": "stdout",
     "output_type": "stream",
     "text": [
      "CPU times: user 60 ms, sys: 20 ms, total: 80 ms\n",
      "Wall time: 74.5 ms\n",
      "CPU times: user 7.18 s, sys: 1.59 s, total: 8.77 s\n",
      "Wall time: 8.8 s\n"
     ]
    },
    {
     "data": {
      "text/plain": [
       "<igraph.Graph at 0x7fd3cc03b048>"
      ]
     },
     "execution_count": 5,
     "metadata": {},
     "output_type": "execute_result"
    }
   ],
   "source": [
    "import igraph\n",
    "import random\n",
    "g = igraph.Graph.Erdos_Renyi(1000000, m=100000, directed=False)\n",
    "%time attack.perform_attack(g, 200)\n",
    "%time attack.perform_attack_old(g, 200)"
   ]
  },
  {
   "cell_type": "code",
   "execution_count": null,
   "metadata": {},
   "outputs": [
    {
     "name": "stdout",
     "output_type": "stream",
     "text": [
      "###\n",
      "AttackParameters(tries=10000, multiplicity=1, failure_threshold=None)\n",
      "Mean: AttackResult(tries=10000.0, successes=413.7, failures=9586.3)\n",
      "Results: [AttackResult(tries=10000, successes=614, failures=9386), AttackResult(tries=10000, successes=514, failures=9486), AttackResult(tries=10000, successes=423, failures=9577), AttackResult(tries=10000, successes=314, failures=9686), AttackResult(tries=10000, successes=482, failures=9518), AttackResult(tries=10000, successes=235, failures=9765), AttackResult(tries=10000, successes=506, failures=9494), AttackResult(tries=10000, successes=485, failures=9515), AttackResult(tries=10000, successes=330, failures=9670), AttackResult(tries=10000, successes=234, failures=9766)]\n",
      "###\n",
      "AttackParameters(tries=10000, multiplicity=2, failure_threshold=None)\n",
      "Mean: AttackResult(tries=10000.0, successes=822.6, failures=9177.4)\n",
      "Results: [AttackResult(tries=10000, successes=1122, failures=8878), AttackResult(tries=10000, successes=950, failures=9050), AttackResult(tries=10000, successes=743, failures=9257), AttackResult(tries=10000, successes=639, failures=9361), AttackResult(tries=10000, successes=1016, failures=8984), AttackResult(tries=10000, successes=532, failures=9468), AttackResult(tries=10000, successes=1153, failures=8847), AttackResult(tries=10000, successes=867, failures=9133), AttackResult(tries=10000, successes=699, failures=9301), AttackResult(tries=10000, successes=505, failures=9495)]\n",
      "###\n",
      "AttackParameters(tries=10000, multiplicity=3, failure_threshold=None)\n",
      "Mean: AttackResult(tries=10000.0, successes=1216.3, failures=8783.7)\n",
      "Results: [AttackResult(tries=10000, successes=1749, failures=8251), AttackResult(tries=10000, successes=1525, failures=8475), AttackResult(tries=10000, successes=1155, failures=8845), AttackResult(tries=10000, successes=902, failures=9098), AttackResult(tries=10000, successes=1472, failures=8528), AttackResult(tries=10000, successes=720, failures=9280), AttackResult(tries=10000, successes=1558, failures=8442), AttackResult(tries=10000, successes=1339, failures=8661), AttackResult(tries=10000, successes=1000, failures=9000), AttackResult(tries=10000, successes=743, failures=9257)]\n",
      "###\n",
      "AttackParameters(tries=10000, multiplicity=4, failure_threshold=None)\n",
      "Mean: AttackResult(tries=10000.0, successes=1596.0, failures=8404.0)\n",
      "Results: [AttackResult(tries=10000, successes=2237, failures=7763), AttackResult(tries=10000, successes=1827, failures=8173), AttackResult(tries=10000, successes=1590, failures=8410), AttackResult(tries=10000, successes=1212, failures=8788), AttackResult(tries=10000, successes=1865, failures=8135), AttackResult(tries=10000, successes=1001, failures=8999), AttackResult(tries=10000, successes=2143, failures=7857), AttackResult(tries=10000, successes=1653, failures=8347), AttackResult(tries=10000, successes=1395, failures=8605), AttackResult(tries=10000, successes=1037, failures=8963)]\n",
      "###\n",
      "AttackParameters(tries=10000, multiplicity=5, failure_threshold=None)\n",
      "Mean: AttackResult(tries=10000.0, successes=1974.7, failures=8025.3)\n",
      "Results: [AttackResult(tries=10000, successes=2737, failures=7263), AttackResult(tries=10000, successes=2374, failures=7626), AttackResult(tries=10000, successes=1931, failures=8069), AttackResult(tries=10000, successes=1439, failures=8561), AttackResult(tries=10000, successes=2332, failures=7668), AttackResult(tries=10000, successes=1289, failures=8711), AttackResult(tries=10000, successes=2519, failures=7481), AttackResult(tries=10000, successes=2186, failures=7814), AttackResult(tries=10000, successes=1674, failures=8326), AttackResult(tries=10000, successes=1266, failures=8734)]\n",
      "###\n",
      "AttackParameters(tries=10000, multiplicity=6, failure_threshold=None)\n",
      "Mean: AttackResult(tries=10000.0, successes=2346.6, failures=7653.4)\n",
      "Results: [AttackResult(tries=10000, successes=3212, failures=6788), AttackResult(tries=10000, successes=2801, failures=7199), AttackResult(tries=10000, successes=2306, failures=7694), AttackResult(tries=10000, successes=1878, failures=8122), AttackResult(tries=10000, successes=2756, failures=7244), AttackResult(tries=10000, successes=1528, failures=8472), AttackResult(tries=10000, successes=2924, failures=7076), AttackResult(tries=10000, successes=2493, failures=7507), AttackResult(tries=10000, successes=2056, failures=7944), AttackResult(tries=10000, successes=1512, failures=8488)]\n",
      "###\n",
      "AttackParameters(tries=10000, multiplicity=7, failure_threshold=None)\n",
      "Mean: AttackResult(tries=10000.0, successes=2718.4, failures=7281.6)\n",
      "Results: [AttackResult(tries=10000, successes=3750, failures=6250), AttackResult(tries=10000, successes=3254, failures=6746), AttackResult(tries=10000, successes=2644, failures=7356), AttackResult(tries=10000, successes=2066, failures=7934), AttackResult(tries=10000, successes=3125, failures=6875), AttackResult(tries=10000, successes=1841, failures=8159), AttackResult(tries=10000, successes=3422, failures=6578), AttackResult(tries=10000, successes=2950, failures=7050), AttackResult(tries=10000, successes=2406, failures=7594), AttackResult(tries=10000, successes=1726, failures=8274)]\n",
      "###\n",
      "AttackParameters(tries=10000, multiplicity=8, failure_threshold=None)\n",
      "Mean: AttackResult(tries=10000.0, successes=3083.0, failures=6917.0)\n",
      "Results: [AttackResult(tries=10000, successes=4129, failures=5871), AttackResult(tries=10000, successes=3639, failures=6361), AttackResult(tries=10000, successes=3033, failures=6967), AttackResult(tries=10000, successes=2446, failures=7554), AttackResult(tries=10000, successes=3576, failures=6424), AttackResult(tries=10000, successes=2111, failures=7889), AttackResult(tries=10000, successes=3770, failures=6230), AttackResult(tries=10000, successes=3360, failures=6640), AttackResult(tries=10000, successes=2708, failures=7292), AttackResult(tries=10000, successes=2058, failures=7942)]\n"
     ]
    }
   ],
   "source": [
    "%time attack.process()"
   ]
  }
 ],
 "metadata": {
  "kernelspec": {
   "display_name": "Python 3",
   "language": "python",
   "name": "python3"
  },
  "language_info": {
   "codemirror_mode": {
    "name": "ipython",
    "version": 3
   },
   "file_extension": ".py",
   "mimetype": "text/x-python",
   "name": "python",
   "nbconvert_exporter": "python",
   "pygments_lexer": "ipython3",
   "version": "3.6.4"
  }
 },
 "nbformat": 4,
 "nbformat_minor": 2
}
