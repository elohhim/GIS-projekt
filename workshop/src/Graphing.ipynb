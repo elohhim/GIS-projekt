{
 "cells": [
  {
   "cell_type": "code",
   "execution_count": 9,
   "metadata": {},
   "outputs": [],
   "source": [
    "from __future__ import division\n",
    "import os, igraph, random, distutils, math\n",
    "from IPython.display import SVG, display\n",
    "import numpy_indexed as npix\n",
    "\n",
    "import pandas as pd\n",
    "\n",
    "import matplotlib.pyplot as plt\n",
    "import numpy as np"
   ]
  },
  {
   "cell_type": "code",
   "execution_count": 6,
   "metadata": {},
   "outputs": [],
   "source": [
    "def group_plot(self, results, n, name=\"\"):\n",
    "    \n",
    "    \"\"\"Interface for printing and saving plots\"\"\"\n",
    "\n",
    "        data = self.preprocess_results(results)\n",
    "\n",
    "        x, y = [x[0] for x in data], [y[1] for y in data]\n",
    "\n",
    "        [x_unique, y_mean] = npix.group_by(x).mean(y)\n",
    "\n",
    "        data = zip(x, y)\n",
    "\n",
    "        #print data\n",
    "\n",
    "        self.plot_save(data, n, name);\n",
    "\n",
    "def plot_save(self, data, n, file_name=\"\"):\n",
    "        \"\"\"Plot graph edge-connectivity versus its edge density.\n",
    "        \n",
    "        Example:\n",
    "          >>> data = [result1, result2, result3]\n",
    "          >>> plot_xy(data)\n",
    "        \"\"\"\n",
    "\n",
    "        x = 'averaged density'\n",
    "        y = 'averaged edge-connectivity'\n",
    "\n",
    "        df = pd.DataFrame(data, columns = [x, y])\n",
    "        df.set_index(x, inplace=True)\n",
    "        t = \"Mean resilience of graphs of \" + str(n) + \" nodes\"\n",
    "        #t = \"Średni stopień spójności krawędziowej grafu o \" + str(n) + \" wierzchołkach\"\n",
    "        df.plot(title = t)\n",
    "\n",
    "        if file_name != \"\":\n",
    "            plt.savefig(file_name)\n",
    "\n",
    "        return df"
   ]
  },
  {
   "cell_type": "code",
   "execution_count": null,
   "metadata": {},
   "outputs": [],
   "source": []
  }
 ],
 "metadata": {
  "kernelspec": {
   "display_name": "Python 3",
   "language": "python",
   "name": "python3"
  },
  "language_info": {
   "codemirror_mode": {
    "name": "ipython",
    "version": 3
   },
   "file_extension": ".py",
   "mimetype": "text/x-python",
   "name": "python",
   "nbconvert_exporter": "python",
   "pygments_lexer": "ipython3",
   "version": "3.6.5"
  }
 },
 "nbformat": 4,
 "nbformat_minor": 2
}
